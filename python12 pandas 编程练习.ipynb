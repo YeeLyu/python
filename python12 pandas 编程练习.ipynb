{
 "cells": [
  {
   "cell_type": "markdown",
   "metadata": {},
   "source": [
    "下面这个语句是为了在 notebook中显示 matplotlib的绘图"
   ]
  },
  {
   "cell_type": "code",
   "execution_count": null,
   "metadata": {
    "ExecuteTime": {
     "end_time": "2018-01-13T07:45:24.309425Z",
     "start_time": "2018-01-13T07:45:23.982985Z"
    }
   },
   "outputs": [],
   "source": [
    "%matplotlib inline"
   ]
  },
  {
   "cell_type": "markdown",
   "metadata": {},
   "source": [
    "### 导入\n",
    "习惯上，我们这样导入pandas:"
   ]
  },
  {
   "cell_type": "code",
   "execution_count": null,
   "metadata": {
    "ExecuteTime": {
     "end_time": "2018-01-13T07:45:25.520115Z",
     "start_time": "2018-01-13T07:45:25.301417Z"
    }
   },
   "outputs": [],
   "source": [
    "import numpy as np\n",
    "import pandas as pd\n",
    "import matplotlib.pyplot as plt\n",
    "from pandas import Series,DataFrame"
   ]
  },
  {
   "cell_type": "code",
   "execution_count": null,
   "metadata": {},
   "outputs": [],
   "source": [
    "data = pd.DataFrame()\n",
    "a = [[1,2,3]]\n",
    "data = data.append(a)\n",
    "print(data)\n",
    "\n"
   ]
  },
  {
   "cell_type": "markdown",
   "metadata": {},
   "source": [
    "### Series\n",
    "通过列表可以创建Series，Pandas会自动创建整型索引。"
   ]
  },
  {
   "cell_type": "code",
   "execution_count": null,
   "metadata": {
    "ExecuteTime": {
     "end_time": "2018-01-13T07:46:46.841237Z",
     "start_time": "2018-01-13T07:46:46.833237Z"
    }
   },
   "outputs": [],
   "source": [
    "s=Series([1,3,5,np.nan,6,8]) #值的类型会自动统一\n",
    "s"
   ]
  },
  {
   "cell_type": "code",
   "execution_count": null,
   "metadata": {},
   "outputs": [],
   "source": [
    "s.sort_values()"
   ]
  },
  {
   "cell_type": "code",
   "execution_count": null,
   "metadata": {},
   "outputs": [],
   "source": [
    "s.values"
   ]
  },
  {
   "cell_type": "code",
   "execution_count": null,
   "metadata": {},
   "outputs": [],
   "source": [
    "s.index"
   ]
  },
  {
   "cell_type": "code",
   "execution_count": null,
   "metadata": {},
   "outputs": [],
   "source": [
    "s2 = pd.Series([3,51,5,2,6],index=['a','b','c','d','e'])#自己定义索引\n",
    "s2"
   ]
  },
  {
   "cell_type": "code",
   "execution_count": null,
   "metadata": {},
   "outputs": [],
   "source": [
    "s2.index"
   ]
  },
  {
   "cell_type": "code",
   "execution_count": null,
   "metadata": {},
   "outputs": [],
   "source": [
    "s2['d']"
   ]
  },
  {
   "cell_type": "code",
   "execution_count": null,
   "metadata": {},
   "outputs": [],
   "source": [
    "s2[['a','d','c']]"
   ]
  },
  {
   "cell_type": "code",
   "execution_count": null,
   "metadata": {},
   "outputs": [],
   "source": [
    "'c' in s2"
   ]
  },
  {
   "cell_type": "markdown",
   "metadata": {},
   "source": [
    "同时可以当作字典"
   ]
  },
  {
   "cell_type": "code",
   "execution_count": null,
   "metadata": {},
   "outputs": [],
   "source": [
    "sdata = {'Ohio':35000, 'Texas':7000, 'Orange':10902}\n",
    "s3 = pd.Series(sdata)\n",
    "s3"
   ]
  },
  {
   "cell_type": "code",
   "execution_count": null,
   "metadata": {},
   "outputs": [],
   "source": [
    "pd.isnull(s3)"
   ]
  },
  {
   "cell_type": "code",
   "execution_count": null,
   "metadata": {},
   "outputs": [],
   "source": [
    "pd.notnull(s3)"
   ]
  },
  {
   "cell_type": "code",
   "execution_count": null,
   "metadata": {},
   "outputs": [],
   "source": [
    "s3.isnull()"
   ]
  },
  {
   "cell_type": "markdown",
   "metadata": {},
   "source": [
    "Series对象及其索引有一个name属性"
   ]
  },
  {
   "cell_type": "code",
   "execution_count": null,
   "metadata": {},
   "outputs": [],
   "source": [
    "s3.name = 'alvin'\n",
    "s3.index.name = 'state'\n",
    "s3"
   ]
  },
  {
   "cell_type": "code",
   "execution_count": null,
   "metadata": {},
   "outputs": [],
   "source": [
    "s3.index = ['a','b','f'] #整体更换索引，但不能单独替换某个索引指\n",
    "s3"
   ]
  },
  {
   "cell_type": "markdown",
   "metadata": {},
   "source": [
    "### DataFrame\n",
    "\n",
    "通过NumPy的数组可以创建一个DataFrame。"
   ]
  },
  {
   "cell_type": "code",
   "execution_count": null,
   "metadata": {
    "ExecuteTime": {
     "end_time": "2018-01-13T07:46:47.105287Z",
     "start_time": "2018-01-13T07:46:47.093258Z"
    }
   },
   "outputs": [],
   "source": [
    "dates=pd.date_range('20130101',periods=6)\n",
    "print(dates)\n",
    "df=pd.DataFrame(np.random.randn(6,4),index=dates,columns=list('ABCD'))\n",
    "df"
   ]
  },
  {
   "cell_type": "markdown",
   "metadata": {},
   "source": [
    "也可以通过字典来创建DataFrame"
   ]
  },
  {
   "cell_type": "code",
   "execution_count": null,
   "metadata": {
    "ExecuteTime": {
     "end_time": "2018-01-13T07:46:47.426719Z",
     "start_time": "2018-01-13T07:46:47.412682Z"
    }
   },
   "outputs": [],
   "source": [
    "df2=pd.DataFrame({'A':1.,\n",
    "                 'B':pd.Timestamp('20130102'),\n",
    "                 'C':pd.Series(1,index=list(range(4)),dtype='float32'),\n",
    "                 'D':np.array([3]*4,dtype='int32'),\n",
    "                 'E':pd.Categorical(['test','train','test','train']),\n",
    "                 'F':'foo'})\n",
    "print(df2)"
   ]
  },
  {
   "cell_type": "code",
   "execution_count": null,
   "metadata": {},
   "outputs": [],
   "source": [
    "df2.dtypes #每一列（column）类型不同"
   ]
  },
  {
   "cell_type": "code",
   "execution_count": null,
   "metadata": {},
   "outputs": [],
   "source": [
    "data={'state':['Ohio','Ohio','Ohio','Nevada','Nevada'],\n",
    "      'year':[2000, 2001, 2002, 2001, 2002],\n",
    "      'pop':[1.5, 1.7, 3.6, 2.4, 2.9]}\n",
    "df3 = pd.DataFrame(data,columns=['year', 'state', 'pop', 'debt'],\n",
    "            index=['one', 'two', 'three', 'four', 'five'])\n",
    "\n",
    "df3\n"
   ]
  },
  {
   "cell_type": "code",
   "execution_count": null,
   "metadata": {},
   "outputs": [],
   "source": [
    "df3['debt']=16  #给一个列（column）赋值\n",
    "df3"
   ]
  },
  {
   "cell_type": "markdown",
   "metadata": {
    "ExecuteTime": {
     "end_time": "2018-01-09T03:20:11.361273Z",
     "start_time": "2018-01-09T03:20:11.356261Z"
    }
   },
   "source": [
    "### 查看数据\n",
    "查看数据的顶部和底部"
   ]
  },
  {
   "cell_type": "code",
   "execution_count": null,
   "metadata": {
    "ExecuteTime": {
     "end_time": "2018-01-13T07:46:48.033330Z",
     "start_time": "2018-01-13T07:46:48.024337Z"
    }
   },
   "outputs": [],
   "source": [
    "print(df.head(3))\n",
    "print(df.tail(3))"
   ]
  },
  {
   "cell_type": "markdown",
   "metadata": {},
   "source": [
    "查看索引，列名，以及纯的NumPy数据"
   ]
  },
  {
   "cell_type": "code",
   "execution_count": null,
   "metadata": {
    "ExecuteTime": {
     "end_time": "2018-01-13T07:46:48.406942Z",
     "start_time": "2018-01-13T07:46:48.399922Z"
    }
   },
   "outputs": [],
   "source": [
    "print(df.index)\n",
    "print(df.columns)\n",
    "print(df.values)"
   ]
  },
  {
   "cell_type": "markdown",
   "metadata": {},
   "source": [
    "```DataFrame.describe()```提供了便捷的数据统计\n",
    "\n",
    "1、count：返回数组的个数，如上述为4个元素，所以返回为4；\n",
    "\n",
    "2、mean：返回数组的平均e79fa5e98193e59b9ee7ad9431333433623135值，1 3 5 9的平均值为4.5；\n",
    "\n",
    "3、std：返回数组的标准差；\n",
    "\n",
    "4、min：返回数组的最小值；\n",
    "\n",
    "5、25%，50%，75%：返回数组的三个不同百分位置的数值，也就是统计学中的四分位数。\n",
    "\n",
    "6、 max：最大值"
   ]
  },
  {
   "cell_type": "code",
   "execution_count": null,
   "metadata": {
    "ExecuteTime": {
     "end_time": "2018-01-13T07:46:48.714876Z",
     "start_time": "2018-01-13T07:46:48.693822Z"
    },
    "scrolled": true
   },
   "outputs": [],
   "source": [
    "print(df)\n",
    "print(df.describe())"
   ]
  },
  {
   "cell_type": "markdown",
   "metadata": {},
   "source": [
    "转置矩阵"
   ]
  },
  {
   "cell_type": "code",
   "execution_count": null,
   "metadata": {
    "ExecuteTime": {
     "end_time": "2018-01-13T07:46:49.018446Z",
     "start_time": "2018-01-13T07:46:49.008420Z"
    }
   },
   "outputs": [],
   "source": [
    "print(df.T)"
   ]
  },
  {
   "cell_type": "markdown",
   "metadata": {},
   "source": [
    "沿某一轴排序"
   ]
  },
  {
   "cell_type": "code",
   "execution_count": null,
   "metadata": {
    "ExecuteTime": {
     "end_time": "2018-01-13T07:46:49.328897Z",
     "start_time": "2018-01-13T07:46:49.319897Z"
    }
   },
   "outputs": [],
   "source": [
    "print(df.sort_index(axis=0,ascending=True))"
   ]
  },
  {
   "cell_type": "markdown",
   "metadata": {},
   "source": [
    "按照值进行排序"
   ]
  },
  {
   "cell_type": "code",
   "execution_count": null,
   "metadata": {
    "ExecuteTime": {
     "end_time": "2018-01-13T07:46:49.682760Z",
     "start_time": "2018-01-13T07:46:49.672733Z"
    },
    "scrolled": true
   },
   "outputs": [],
   "source": [
    "print(df.sort_values(by='C'))"
   ]
  },
  {
   "cell_type": "markdown",
   "metadata": {},
   "source": [
    "### 数据选择\n",
    "**注意：**尽管Python标准库和NumPy的语句在选择和设置数据时更直观和方便交互。但是在生产环境中，我们更建议使用Pandas的数据访问函数：```.at, .iat, .loc, .iloc, .ix```\n",
    "\n",
    "#### 数据获取\n",
    "选择一列，返回Series。等同于df.A"
   ]
  },
  {
   "cell_type": "code",
   "execution_count": null,
   "metadata": {},
   "outputs": [],
   "source": [
    "df"
   ]
  },
  {
   "cell_type": "code",
   "execution_count": null,
   "metadata": {
    "ExecuteTime": {
     "end_time": "2018-01-13T07:46:50.050583Z",
     "start_time": "2018-01-13T07:46:50.038517Z"
    }
   },
   "outputs": [],
   "source": [
    "df[['A','D']]"
   ]
  },
  {
   "cell_type": "markdown",
   "metadata": {
    "ExecuteTime": {
     "end_time": "2018-01-09T06:24:49.301694Z",
     "start_time": "2018-01-09T06:24:49.293642Z"
    }
   },
   "source": [
    "使用```[]```来切分多行数据"
   ]
  },
  {
   "cell_type": "code",
   "execution_count": null,
   "metadata": {
    "ExecuteTime": {
     "end_time": "2018-01-13T07:46:50.386679Z",
     "start_time": "2018-01-13T07:46:50.375687Z"
    }
   },
   "outputs": [],
   "source": [
    "print(df[0:3])\n",
    "print(df['20130102':'20130104'])"
   ]
  },
  {
   "cell_type": "markdown",
   "metadata": {},
   "source": [
    "#### 根据标签选择\n",
    "使用标签来得到特定的一行,loc根据两个方向的index来选取"
   ]
  },
  {
   "cell_type": "code",
   "execution_count": null,
   "metadata": {
    "ExecuteTime": {
     "end_time": "2018-01-13T07:46:50.716513Z",
     "start_time": "2018-01-13T07:46:50.710495Z"
    }
   },
   "outputs": [],
   "source": [
    "#dates 是 df的 index\n",
    "df.loc[dates[0]]"
   ]
  },
  {
   "cell_type": "markdown",
   "metadata": {},
   "source": [
    "使用标签来得到多个指定的列"
   ]
  },
  {
   "cell_type": "code",
   "execution_count": null,
   "metadata": {
    "ExecuteTime": {
     "end_time": "2018-01-13T07:46:51.029548Z",
     "start_time": "2018-01-13T07:46:51.022530Z"
    }
   },
   "outputs": [],
   "source": [
    "print(df.loc[:,['A','B']])"
   ]
  },
  {
   "cell_type": "markdown",
   "metadata": {},
   "source": [
    "用标签来切片时，端点的值都是被包含在内的"
   ]
  },
  {
   "cell_type": "code",
   "execution_count": null,
   "metadata": {
    "ExecuteTime": {
     "end_time": "2018-01-13T07:46:51.384300Z",
     "start_time": "2018-01-13T07:46:51.375251Z"
    }
   },
   "outputs": [],
   "source": [
    "print(df.loc['20130102':'20130104',['A']])"
   ]
  },
  {
   "cell_type": "markdown",
   "metadata": {
    "ExecuteTime": {
     "end_time": "2018-01-09T06:50:46.866941Z",
     "start_time": "2018-01-09T06:50:46.851903Z"
    }
   },
   "source": [
    "选择的返回值可以降低维度"
   ]
  },
  {
   "cell_type": "code",
   "execution_count": null,
   "metadata": {
    "ExecuteTime": {
     "end_time": "2018-01-13T07:46:51.710760Z",
     "start_time": "2018-01-13T07:46:51.701723Z"
    }
   },
   "outputs": [],
   "source": [
    "df.loc['20130102',['A','B']]"
   ]
  },
  {
   "cell_type": "markdown",
   "metadata": {
    "ExecuteTime": {
     "end_time": "2018-01-09T06:51:10.599086Z",
     "start_time": "2018-01-09T06:51:10.589060Z"
    }
   },
   "source": [
    "选择一个标量"
   ]
  },
  {
   "cell_type": "code",
   "execution_count": null,
   "metadata": {
    "ExecuteTime": {
     "end_time": "2018-01-13T07:46:52.070121Z",
     "start_time": "2018-01-13T07:46:52.065107Z"
    }
   },
   "outputs": [],
   "source": [
    "df.loc[dates[0],'A']"
   ]
  },
  {
   "cell_type": "markdown",
   "metadata": {
    "ExecuteTime": {
     "end_time": "2018-01-09T06:52:11.528501Z",
     "start_time": "2018-01-09T06:52:11.524460Z"
    }
   },
   "source": [
    "快速获取一个标量（与上面相同）"
   ]
  },
  {
   "cell_type": "code",
   "execution_count": null,
   "metadata": {
    "ExecuteTime": {
     "end_time": "2018-01-13T07:46:52.427089Z",
     "start_time": "2018-01-13T07:46:52.421105Z"
    }
   },
   "outputs": [],
   "source": [
    "df.at[dates[0],'A']"
   ]
  },
  {
   "cell_type": "markdown",
   "metadata": {},
   "source": [
    "#### 根据位置进行选择\n",
    "根据整数下标来选择数据；iloc  根据 index的具体位置来获取"
   ]
  },
  {
   "cell_type": "code",
   "execution_count": null,
   "metadata": {
    "ExecuteTime": {
     "end_time": "2018-01-13T07:46:52.745211Z",
     "start_time": "2018-01-13T07:46:52.739198Z"
    }
   },
   "outputs": [],
   "source": [
    "print(df)\n",
    "df.iloc[3]"
   ]
  },
  {
   "cell_type": "markdown",
   "metadata": {},
   "source": [
    "用整数来切片，类似于Python标准库和NumPy"
   ]
  },
  {
   "cell_type": "code",
   "execution_count": null,
   "metadata": {
    "ExecuteTime": {
     "end_time": "2018-01-13T07:46:53.074663Z",
     "start_time": "2018-01-13T07:46:53.067643Z"
    }
   },
   "outputs": [],
   "source": [
    "print(df.iloc[3:5,0:2])"
   ]
  },
  {
   "cell_type": "markdown",
   "metadata": {
    "ExecuteTime": {
     "end_time": "2018-01-09T07:25:26.762911Z",
     "start_time": "2018-01-09T07:25:26.756895Z"
    }
   },
   "source": [
    "用整数列表来进行选择，与Python标准库和NumPy类似"
   ]
  },
  {
   "cell_type": "code",
   "execution_count": null,
   "metadata": {
    "ExecuteTime": {
     "end_time": "2018-01-13T07:46:53.452416Z",
     "start_time": "2018-01-13T07:46:53.444912Z"
    }
   },
   "outputs": [],
   "source": [
    "print(df.iloc[[1,2,4],[0,2]])"
   ]
  },
  {
   "cell_type": "markdown",
   "metadata": {},
   "source": [
    "对行进行切片选择"
   ]
  },
  {
   "cell_type": "code",
   "execution_count": null,
   "metadata": {
    "ExecuteTime": {
     "end_time": "2018-01-13T07:46:53.766568Z",
     "start_time": "2018-01-13T07:46:53.759571Z"
    }
   },
   "outputs": [],
   "source": [
    "print(df.iloc[1:3,:])"
   ]
  },
  {
   "cell_type": "markdown",
   "metadata": {},
   "source": [
    "对列进行切片选择"
   ]
  },
  {
   "cell_type": "code",
   "execution_count": null,
   "metadata": {
    "ExecuteTime": {
     "end_time": "2018-01-13T07:46:54.090242Z",
     "start_time": "2018-01-13T07:46:54.082250Z"
    }
   },
   "outputs": [],
   "source": [
    "print(df.iloc[:,1:3])"
   ]
  },
  {
   "cell_type": "markdown",
   "metadata": {},
   "source": [
    "获取某个标量"
   ]
  },
  {
   "cell_type": "code",
   "execution_count": null,
   "metadata": {
    "ExecuteTime": {
     "end_time": "2018-01-13T07:46:54.427372Z",
     "start_time": "2018-01-13T07:46:54.423365Z"
    }
   },
   "outputs": [],
   "source": [
    "df.iloc[1,1]"
   ]
  },
  {
   "cell_type": "markdown",
   "metadata": {},
   "source": [
    "快速地获取某个标量（与上面的函数相同）"
   ]
  },
  {
   "cell_type": "code",
   "execution_count": null,
   "metadata": {
    "ExecuteTime": {
     "end_time": "2018-01-13T07:46:54.796667Z",
     "start_time": "2018-01-13T07:46:54.791652Z"
    }
   },
   "outputs": [],
   "source": [
    "df.iat[1,1]"
   ]
  },
  {
   "cell_type": "markdown",
   "metadata": {},
   "source": [
    ".loc for label based indexing\n",
    "\n",
    ".iloc for positional indexing\n",
    "\n"
   ]
  },
  {
   "cell_type": "code",
   "execution_count": null,
   "metadata": {},
   "outputs": [],
   "source": [
    "print(df.loc['2013-01-01','A':'B'])\n",
    "print(df.iloc[0,0:2])\n",
    "print(df.ix[0,'A':'B'])"
   ]
  },
  {
   "cell_type": "markdown",
   "metadata": {},
   "source": [
    "#### 布尔索引\n",
    "使用某列值来选择数据"
   ]
  },
  {
   "cell_type": "code",
   "execution_count": null,
   "metadata": {
    "ExecuteTime": {
     "end_time": "2018-01-13T07:46:55.132799Z",
     "start_time": "2018-01-13T07:46:55.123799Z"
    }
   },
   "outputs": [],
   "source": [
    "print(df[df.A>0])  #可以进行按照条件过滤数据"
   ]
  },
  {
   "cell_type": "markdown",
   "metadata": {},
   "source": [
    "从DataFrame中选择满足某条件的数据"
   ]
  },
  {
   "cell_type": "code",
   "execution_count": null,
   "metadata": {},
   "outputs": [],
   "source": [
    "df"
   ]
  },
  {
   "cell_type": "code",
   "execution_count": null,
   "metadata": {
    "ExecuteTime": {
     "end_time": "2018-01-13T07:46:55.502012Z",
     "start_time": "2018-01-13T07:46:55.492005Z"
    }
   },
   "outputs": [],
   "source": [
    "print(df[df>0])"
   ]
  },
  {
   "cell_type": "markdown",
   "metadata": {},
   "source": [
    "使用```isin()```函数来过滤数据"
   ]
  },
  {
   "cell_type": "code",
   "execution_count": null,
   "metadata": {
    "ExecuteTime": {
     "end_time": "2018-01-13T07:46:55.855504Z",
     "start_time": "2018-01-13T07:46:55.839958Z"
    }
   },
   "outputs": [],
   "source": [
    "df2=df.copy()\n",
    "df2['E']=['one','one','two','three','four','three']\n",
    "print(df2)\n",
    "print(df2[df2['E'].isin(['two','four'])])"
   ]
  },
  {
   "cell_type": "markdown",
   "metadata": {},
   "source": [
    "#### 设置数据\n",
    "设置一个新列并设置索引"
   ]
  },
  {
   "cell_type": "code",
   "execution_count": null,
   "metadata": {
    "ExecuteTime": {
     "end_time": "2018-01-13T07:46:56.254550Z",
     "start_time": "2018-01-13T07:46:56.235969Z"
    }
   },
   "outputs": [],
   "source": [
    "s1=pd.Series([1,2,3,4,5,6],index=pd.date_range('20130102',periods=6))\n",
    "df['F']=s1\n",
    "df"
   ]
  },
  {
   "cell_type": "markdown",
   "metadata": {},
   "source": [
    "根据标签来设置值\n",
    "at函数\n",
    "根据指定行index及列label，快速定位DataFrame的元素，选择列时仅支持列名"
   ]
  },
  {
   "cell_type": "code",
   "execution_count": null,
   "metadata": {
    "ExecuteTime": {
     "end_time": "2018-01-13T07:46:56.548368Z",
     "start_time": "2018-01-13T07:46:56.539358Z"
    },
    "scrolled": true
   },
   "outputs": [],
   "source": [
    "df.at[dates[0],'A']=0\n",
    "print(df)"
   ]
  },
  {
   "cell_type": "markdown",
   "metadata": {},
   "source": [
    "根据位置的来设置值\n",
    "与at的功能相同，只使用索引参数"
   ]
  },
  {
   "cell_type": "code",
   "execution_count": null,
   "metadata": {
    "ExecuteTime": {
     "end_time": "2018-01-13T07:46:56.911348Z",
     "start_time": "2018-01-13T07:46:56.903352Z"
    }
   },
   "outputs": [],
   "source": [
    "df.iat[0,1]=0\n",
    "print(df)"
   ]
  },
  {
   "cell_type": "markdown",
   "metadata": {},
   "source": [
    "使用NumPy数组来赋值"
   ]
  },
  {
   "cell_type": "code",
   "execution_count": null,
   "metadata": {
    "ExecuteTime": {
     "end_time": "2018-01-13T07:46:57.296301Z",
     "start_time": "2018-01-13T07:46:57.286273Z"
    },
    "scrolled": true
   },
   "outputs": [],
   "source": [
    "df.loc[:,'D']=np.array([5]*len(df))\n",
    "print(df)"
   ]
  },
  {
   "cell_type": "markdown",
   "metadata": {},
   "source": [
    "在过滤的同时进行赋值"
   ]
  },
  {
   "cell_type": "code",
   "execution_count": null,
   "metadata": {
    "ExecuteTime": {
     "end_time": "2018-01-13T07:46:57.636646Z",
     "start_time": "2018-01-13T07:46:57.622610Z"
    }
   },
   "outputs": [],
   "source": [
    "df2=df.copy()\n",
    "df2[df2>0]=-df2\n",
    "print(df2)"
   ]
  },
  {
   "cell_type": "markdown",
   "metadata": {},
   "source": [
    "### 处理缺失数据\n",
    "Pandas主要使用```np.nan```来表示缺失数据。这个值不会加入在计算中。\n",
    "重新索引允许你对某一轴的索引进行更改/添加/删除操作。这会返回操作数据的拷贝对象。"
   ]
  },
  {
   "cell_type": "code",
   "execution_count": null,
   "metadata": {
    "ExecuteTime": {
     "end_time": "2018-01-13T07:46:58.037021Z",
     "start_time": "2018-01-13T07:46:58.024986Z"
    }
   },
   "outputs": [],
   "source": [
    "df1=df.reindex(index=dates[0:4],columns=list(df.columns)+['E'])\n",
    "df1.loc[dates[0]:dates[1],'E']=1\n",
    "df1"
   ]
  },
  {
   "cell_type": "markdown",
   "metadata": {},
   "source": [
    "删除含有缺失数据的行"
   ]
  },
  {
   "cell_type": "code",
   "execution_count": null,
   "metadata": {
    "ExecuteTime": {
     "end_time": "2018-01-13T07:46:58.417311Z",
     "start_time": "2018-01-13T07:46:58.409315Z"
    }
   },
   "outputs": [],
   "source": [
    "# print(df1.dropna(how='all')) #这一行所有值都为空时删除\n",
    "print(df1.dropna(how='any'))#这一行有任意值为空时删除"
   ]
  },
  {
   "cell_type": "code",
   "execution_count": null,
   "metadata": {},
   "outputs": [],
   "source": [
    "print(df1.dropna(how='any',axis=1))  #删除有空值的列"
   ]
  },
  {
   "cell_type": "markdown",
   "metadata": {},
   "source": [
    "填充缺失数据"
   ]
  },
  {
   "cell_type": "code",
   "execution_count": null,
   "metadata": {
    "ExecuteTime": {
     "end_time": "2018-01-13T07:46:58.746563Z",
     "start_time": "2018-01-13T07:46:58.738533Z"
    }
   },
   "outputs": [],
   "source": [
    "print(df1['E'].fillna(value=5))  "
   ]
  },
  {
   "cell_type": "markdown",
   "metadata": {},
   "source": [
    "获取数据中是```nan```的位置"
   ]
  },
  {
   "cell_type": "code",
   "execution_count": null,
   "metadata": {
    "ExecuteTime": {
     "end_time": "2018-01-13T07:46:59.081650Z",
     "start_time": "2018-01-13T07:46:59.073646Z"
    }
   },
   "outputs": [],
   "source": [
    "print(pd.isnull(df1))"
   ]
  },
  {
   "cell_type": "markdown",
   "metadata": {},
   "source": [
    "### 基础操作\n",
    "#### 基本的统计\n",
    "操作默认排除了缺失的数据  \n",
    "执行一个描述性的统计"
   ]
  },
  {
   "cell_type": "code",
   "execution_count": null,
   "metadata": {
    "ExecuteTime": {
     "end_time": "2018-01-13T07:46:59.497992Z",
     "start_time": "2018-01-13T07:46:59.491970Z"
    }
   },
   "outputs": [],
   "source": [
    "print(df)\n",
    "df.mean()  #默认按列，每一列一般是一种数据类型"
   ]
  },
  {
   "cell_type": "markdown",
   "metadata": {
    "ExecuteTime": {
     "end_time": "2018-01-09T08:11:20.821022Z",
     "start_time": "2018-01-09T08:11:20.811020Z"
    }
   },
   "source": [
    "在另外的轴执行该操作"
   ]
  },
  {
   "cell_type": "code",
   "execution_count": null,
   "metadata": {
    "ExecuteTime": {
     "end_time": "2018-01-13T07:46:59.877399Z",
     "start_time": "2018-01-13T07:46:59.863830Z"
    }
   },
   "outputs": [],
   "source": [
    "df.mean(1)  #横向"
   ]
  },
  {
   "cell_type": "code",
   "execution_count": null,
   "metadata": {},
   "outputs": [],
   "source": [
    "print(df3)\n",
    "df3.mean(1)  #只对数值型平均"
   ]
  },
  {
   "cell_type": "markdown",
   "metadata": {},
   "source": [
    "#### 直方图"
   ]
  },
  {
   "cell_type": "code",
   "execution_count": null,
   "metadata": {
    "ExecuteTime": {
     "end_time": "2018-01-13T07:47:01.247458Z",
     "start_time": "2018-01-13T07:47:01.239436Z"
    }
   },
   "outputs": [],
   "source": [
    "s=pd.Series(np.random.randint(0,7,size=10))\n",
    "print(s)\n",
    "print(s.value_counts())"
   ]
  },
  {
   "cell_type": "markdown",
   "metadata": {},
   "source": [
    "### 数据合并\n",
    "#### 数据拼接\n",
    "Pandas提供了许多工具来根据索引逻辑和线性代数关系组合Series、DataFrame和Panel。\n",
    "用```concat()```组合Pandas数据"
   ]
  },
  {
   "cell_type": "code",
   "execution_count": null,
   "metadata": {
    "ExecuteTime": {
     "end_time": "2018-01-13T07:47:02.215026Z",
     "start_time": "2018-01-13T07:47:02.199983Z"
    }
   },
   "outputs": [],
   "source": [
    "df=pd.DataFrame(np.random.randn(10,4))\n",
    "print(df)\n",
    "pieces=[df[:3],df[3:7],df[7:]]  #拆分\n",
    "print(pd.concat(pieces))   #拼接还原"
   ]
  },
  {
   "cell_type": "markdown",
   "metadata": {},
   "source": [
    "#### 数据关联\n",
    "合并"
   ]
  },
  {
   "cell_type": "code",
   "execution_count": null,
   "metadata": {
    "ExecuteTime": {
     "end_time": "2018-01-13T07:47:02.608433Z",
     "start_time": "2018-01-13T07:47:02.591388Z"
    }
   },
   "outputs": [],
   "source": [
    "left=pd.DataFrame({'key':['foo','foo'],'lval':[1,2]})\n",
    "right=pd.DataFrame({'key':['foo','foo'],'rval':[4,5]})\n",
    "print(left)\n",
    "print(right)\n",
    "print(pd.merge(left,right,on='key'))"
   ]
  },
  {
   "cell_type": "code",
   "execution_count": null,
   "metadata": {
    "ExecuteTime": {
     "end_time": "2018-01-13T07:47:02.660585Z",
     "start_time": "2018-01-13T07:47:02.643528Z"
    }
   },
   "outputs": [],
   "source": [
    "left=pd.DataFrame({'key':['foo','bar'],'lval':[1,2]})\n",
    "right=pd.DataFrame({'key':['foo','bar'],'rval':[4,5]})\n",
    "print(left)\n",
    "print(right)\n",
    "print(pd.merge(left,right,on='key'))"
   ]
  },
  {
   "cell_type": "markdown",
   "metadata": {},
   "source": [
    "#### 添加数据（Append）\n",
    "给DataFrame添加行"
   ]
  },
  {
   "cell_type": "code",
   "execution_count": null,
   "metadata": {
    "ExecuteTime": {
     "end_time": "2018-01-13T07:47:03.070830Z",
     "start_time": "2018-01-13T07:47:03.053277Z"
    }
   },
   "outputs": [],
   "source": [
    "df=pd.DataFrame(np.random.randn(8,4),columns=['A','B','C','D'])\n",
    "print(df)\n",
    "s=df.iloc[3]\n",
    "print(df.append(s,ignore_index=True))"
   ]
  },
  {
   "cell_type": "markdown",
   "metadata": {},
   "source": [
    "### 分组\n",
    "分组包含以下的一个或多个流程：\n",
    " - 分组 根据某种标准分组数据\n",
    " - 应用 对每个组应用一个函数\n",
    " - 组合 把分组的结果组合成一个整体结构"
   ]
  },
  {
   "cell_type": "code",
   "execution_count": null,
   "metadata": {
    "ExecuteTime": {
     "end_time": "2018-01-13T07:47:03.520375Z",
     "start_time": "2018-01-13T07:47:03.510323Z"
    }
   },
   "outputs": [],
   "source": [
    "df=pd.DataFrame({'A':['foo','bar','foo','bar','foo','bar','foo','foo'],'B' : ['one', 'one', 'two', 'three',\n",
    "                              'two', 'two', 'one', 'three'],\n",
    "                       'C' : np.random.randn(8),\n",
    "                      'D' : np.random.randn(8)})\n",
    "print(df)"
   ]
  },
  {
   "cell_type": "markdown",
   "metadata": {},
   "source": [
    "分组并对分组后的结果求和"
   ]
  },
  {
   "cell_type": "code",
   "execution_count": null,
   "metadata": {
    "ExecuteTime": {
     "end_time": "2018-01-13T07:47:03.930178Z",
     "start_time": "2018-01-13T07:47:03.922156Z"
    }
   },
   "outputs": [],
   "source": [
    "print(df.groupby('A').sum())"
   ]
  },
  {
   "cell_type": "markdown",
   "metadata": {},
   "source": [
    "根据多个列进行分组可以如下操作"
   ]
  },
  {
   "cell_type": "code",
   "execution_count": null,
   "metadata": {
    "ExecuteTime": {
     "end_time": "2018-01-13T07:47:04.352567Z",
     "start_time": "2018-01-13T07:47:04.341537Z"
    }
   },
   "outputs": [],
   "source": [
    "print(df.groupby(['A','B']).sum())"
   ]
  },
  {
   "cell_type": "markdown",
   "metadata": {},
   "source": [
    "### 时间序列\n",
    "Pandas拥有易用、强大且高效的方法来在频率变换中执行重采样操作（例如：把秒级别的数据转换成5分钟级别的数据）。这通常在金融应用中使用，但不仅限于金融应用。"
   ]
  },
  {
   "cell_type": "code",
   "execution_count": null,
   "metadata": {
    "ExecuteTime": {
     "end_time": "2018-01-13T07:47:06.995285Z",
     "start_time": "2018-01-13T07:47:06.979238Z"
    }
   },
   "outputs": [],
   "source": [
    "rng=pd.date_range('1/1/2012',periods=100,freq='S')   # 构造一个日期序列， 开始 1/1/2012  ， 1000个时间点, 频率S 表示秒\n",
    "print(rng)\n",
    "ts=pd.Series(np.random.randint(0,500,len(rng)),index=rng)  #构造一个随机数序列  长度100\n",
    "print(ts.head(5))\n",
    "\n"
   ]
  },
  {
   "cell_type": "code",
   "execution_count": null,
   "metadata": {},
   "outputs": [],
   "source": [
    "ts_sample=ts.resample('5S').sum()   #按照5秒重采样 聚合，  sum表示采样后按求和运算\n",
    "ts_sample"
   ]
  },
  {
   "cell_type": "markdown",
   "metadata": {},
   "source": [
    "表现时区"
   ]
  },
  {
   "cell_type": "code",
   "execution_count": null,
   "metadata": {
    "ExecuteTime": {
     "end_time": "2018-01-13T07:47:07.442870Z",
     "start_time": "2018-01-13T07:47:07.423820Z"
    }
   },
   "outputs": [],
   "source": [
    "rng=pd.date_range('3/6/2012 00:00',periods=5,freq='D')\n",
    "ts=pd.Series(np.random.randn(len(rng)),rng)\n",
    "print(ts)\n",
    "ts_utc=ts.tz_localize('UTC')\n",
    "ts_utc"
   ]
  },
  {
   "cell_type": "markdown",
   "metadata": {},
   "source": [
    "转换到其他时区"
   ]
  },
  {
   "cell_type": "code",
   "execution_count": null,
   "metadata": {
    "ExecuteTime": {
     "end_time": "2018-01-13T07:47:08.002107Z",
     "start_time": "2018-01-13T07:47:07.892132Z"
    }
   },
   "outputs": [],
   "source": [
    "ts_utc.tz_convert('US/Eastern')"
   ]
  },
  {
   "cell_type": "markdown",
   "metadata": {},
   "source": [
    "转换时间间隔的表现形式"
   ]
  },
  {
   "cell_type": "code",
   "execution_count": null,
   "metadata": {
    "ExecuteTime": {
     "end_time": "2018-01-13T07:47:08.496275Z",
     "start_time": "2018-01-13T07:47:08.472708Z"
    },
    "scrolled": true
   },
   "outputs": [],
   "source": [
    "rng=pd.date_range('1/1/2012',periods=5,freq='S')\n",
    "ts=pd.Series(np.random.randn(len(rng)),index=rng)\n",
    "print(ts)\n",
    "ps=ts.to_period()\n",
    "print(ps)\n"
   ]
  },
  {
   "cell_type": "code",
   "execution_count": null,
   "metadata": {},
   "outputs": [],
   "source": [
    "ts.to_period('M')   # Q M D"
   ]
  },
  {
   "cell_type": "markdown",
   "metadata": {},
   "source": [
    "### 标签数据\n",
    "Pandas可以在DataFrame中包含标签数据。"
   ]
  },
  {
   "cell_type": "code",
   "execution_count": null,
   "metadata": {
    "ExecuteTime": {
     "end_time": "2018-01-13T07:47:08.855260Z",
     "start_time": "2018-01-13T07:47:08.849230Z"
    }
   },
   "outputs": [],
   "source": [
    "df=pd.DataFrame({'id':[1,2,3,4,5,6],'raw_grade':['a','b','b','a','a','e']})\n",
    "df"
   ]
  },
  {
   "cell_type": "markdown",
   "metadata": {},
   "source": [
    "将原始数据转换成标签数据"
   ]
  },
  {
   "cell_type": "code",
   "execution_count": null,
   "metadata": {
    "ExecuteTime": {
     "end_time": "2018-01-13T07:47:09.365220Z",
     "start_time": "2018-01-13T07:47:09.358201Z"
    }
   },
   "outputs": [],
   "source": [
    "df['grade']=df['raw_grade'].astype('category')\n",
    "df['grade']"
   ]
  },
  {
   "cell_type": "markdown",
   "metadata": {},
   "source": [
    "将标签重命名成更有意义的名字（对```Series.cat.categories```的赋值是没有申请新内存的）"
   ]
  },
  {
   "cell_type": "code",
   "execution_count": null,
   "metadata": {
    "ExecuteTime": {
     "end_time": "2018-01-13T07:47:09.883685Z",
     "start_time": "2018-01-13T07:47:09.876669Z"
    }
   },
   "outputs": [],
   "source": [
    "df['grade'].cat.categories=['very good','good','very bad']\n",
    "df['grade']"
   ]
  },
  {
   "cell_type": "markdown",
   "metadata": {},
   "source": [
    "排序是根据标签排序的，而不是字典序"
   ]
  },
  {
   "cell_type": "code",
   "execution_count": null,
   "metadata": {
    "ExecuteTime": {
     "end_time": "2018-01-13T07:47:11.013855Z",
     "start_time": "2018-01-13T07:47:11.006835Z"
    }
   },
   "outputs": [],
   "source": [
    "print(df.sort_values(by='grade'))"
   ]
  },
  {
   "cell_type": "markdown",
   "metadata": {
    "ExecuteTime": {
     "end_time": "2018-01-13T06:42:24.713437Z",
     "start_time": "2018-01-13T06:42:24.700894Z"
    }
   },
   "source": [
    "对标签数据分组时同样会显示空标签"
   ]
  },
  {
   "cell_type": "code",
   "execution_count": null,
   "metadata": {
    "ExecuteTime": {
     "end_time": "2018-01-13T07:47:11.597351Z",
     "start_time": "2018-01-13T07:47:11.590358Z"
    }
   },
   "outputs": [],
   "source": [
    "df.groupby('grade').size()"
   ]
  },
  {
   "cell_type": "markdown",
   "metadata": {},
   "source": [
    "### 绘图"
   ]
  },
  {
   "cell_type": "code",
   "execution_count": null,
   "metadata": {
    "ExecuteTime": {
     "end_time": "2018-01-13T07:47:12.401288Z",
     "start_time": "2018-01-13T07:47:12.186099Z"
    }
   },
   "outputs": [],
   "source": [
    "ts=pd.Series(np.random.randn(1000),index=pd.date_range('1/1/2000',periods=1000))\n",
    "ts=ts.cumsum()\n",
    "ts.plot()"
   ]
  },
  {
   "cell_type": "markdown",
   "metadata": {},
   "source": [
    "在DataFrame上，```plot()```是一个函数可以方便地对数据的每个列进行绘图"
   ]
  },
  {
   "cell_type": "code",
   "execution_count": null,
   "metadata": {
    "ExecuteTime": {
     "end_time": "2018-01-13T07:47:13.098274Z",
     "start_time": "2018-01-13T07:47:12.787162Z"
    }
   },
   "outputs": [],
   "source": [
    "df=pd.DataFrame(np.random.randn(1000,4),index=ts.index,columns=['A','B','C','D'])\n",
    "df=df.cumsum()\n",
    "df.plot()\n"
   ]
  },
  {
   "cell_type": "markdown",
   "metadata": {},
   "source": [
    "### 数据获取与导出\n",
    "#### CSV\n",
    "保存数据到csv文件中"
   ]
  },
  {
   "cell_type": "code",
   "execution_count": null,
   "metadata": {
    "ExecuteTime": {
     "end_time": "2018-01-13T07:47:13.440814Z",
     "start_time": "2018-01-13T07:47:13.418780Z"
    }
   },
   "outputs": [],
   "source": [
    "df1.to_csv('C:/mydata/foo.csv')"
   ]
  },
  {
   "cell_type": "markdown",
   "metadata": {},
   "source": [
    "从csv中读取数据"
   ]
  },
  {
   "cell_type": "code",
   "execution_count": null,
   "metadata": {
    "ExecuteTime": {
     "end_time": "2018-01-13T07:47:14.067226Z",
     "start_time": "2018-01-13T07:47:14.055193Z"
    },
    "scrolled": true
   },
   "outputs": [],
   "source": [
    "df=pd.read_csv('foo.csv')\n",
    "print(df[:10])\n",
    "df"
   ]
  },
  {
   "cell_type": "markdown",
   "metadata": {},
   "source": [
    "#### Excel\n",
    "生成Excel文件（需要安装openpyxl库```pip3 install openpyxl```）"
   ]
  },
  {
   "cell_type": "code",
   "execution_count": null,
   "metadata": {
    "ExecuteTime": {
     "end_time": "2018-01-13T07:47:21.522778Z",
     "start_time": "2018-01-13T07:47:20.692815Z"
    }
   },
   "outputs": [],
   "source": [
    "df.to_excel('foo.xlsx',sheet_name='Sheet01')"
   ]
  },
  {
   "cell_type": "markdown",
   "metadata": {},
   "source": [
    "从Excel中读取数据"
   ]
  },
  {
   "cell_type": "code",
   "execution_count": null,
   "metadata": {
    "ExecuteTime": {
     "end_time": "2018-01-13T07:47:21.631120Z",
     "start_time": "2018-01-13T07:47:21.524783Z"
    }
   },
   "outputs": [],
   "source": [
    "print(pd.read_excel('foo.xlsx', 'Sheet01',\n",
    "                    index_col=None, na_values=['NA'])[:10])"
   ]
  },
  {
   "cell_type": "markdown",
   "metadata": {},
   "source": [
    "## 本节小练习：\n",
    "通过pandas 加载 lesson1 中  lesson1 python & numpy\\data/catering_dish_profit.csv\n",
    "将lesson1-2最后的练习，使用pandas编写， 计算菜品的销售总额\n",
    "\n"
   ]
  }
 ],
 "metadata": {
  "kernelspec": {
   "display_name": "Python 3",
   "language": "python",
   "name": "python3"
  },
  "language_info": {
   "codemirror_mode": {
    "name": "ipython",
    "version": 3
   },
   "file_extension": ".py",
   "mimetype": "text/x-python",
   "name": "python",
   "nbconvert_exporter": "python",
   "pygments_lexer": "ipython3",
   "version": "3.7.4"
  },
  "toc": {
   "nav_menu": {},
   "number_sections": true,
   "sideBar": true,
   "skip_h1_title": false,
   "toc_cell": false,
   "toc_position": {},
   "toc_section_display": "block",
   "toc_window_display": false
  },
  "varInspector": {
   "cols": {
    "lenName": 16,
    "lenType": 16,
    "lenVar": 40
   },
   "kernels_config": {
    "python": {
     "delete_cmd_postfix": "",
     "delete_cmd_prefix": "del ",
     "library": "var_list.py",
     "varRefreshCmd": "print(var_dic_list())"
    },
    "r": {
     "delete_cmd_postfix": ") ",
     "delete_cmd_prefix": "rm(",
     "library": "var_list.r",
     "varRefreshCmd": "cat(var_dic_list()) "
    }
   },
   "types_to_exclude": [
    "module",
    "function",
    "builtin_function_or_method",
    "instance",
    "_Feature"
   ],
   "window_display": false
  }
 },
 "nbformat": 4,
 "nbformat_minor": 2
}
