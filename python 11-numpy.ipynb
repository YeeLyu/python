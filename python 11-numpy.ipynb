{
 "cells": [
  {
   "cell_type": "markdown",
   "metadata": {
    "slideshow": {
     "slide_type": "slide"
    }
   },
   "source": [
    "\n",
    "# <center>科学计算库NumPy</center>"
   ]
  },
  {
   "cell_type": "markdown",
   "metadata": {},
   "source": [
    "## 课程内容\n",
    "\n",
    "* 1.ndarray对象\n",
    "* 2.ufunc运算\n",
    "* 3.函数库\n",
    "* 4.模块\n",
    "* 5.文件读写"
   ]
  },
  {
   "cell_type": "markdown",
   "metadata": {},
   "source": [
    "导入NumPy函数库:\n",
    "```\n",
    "import numpy\n",
    "from numpy import *\n",
    "import numpy as np\n",
    "```"
   ]
  },
  {
   "cell_type": "code",
   "execution_count": null,
   "metadata": {},
   "outputs": [],
   "source": []
  },
  {
   "cell_type": "markdown",
   "metadata": {},
   "source": [
    "### 1.ndarray对象\n",
    "Numpy 的核心是连续的多维数组。  \n",
    "Numpy中的数组叫做```np.ndarray```，也可以使用别名```np.array```。  \n",
    "但这里的np.array与Python标准库中的array.array是不同的。\n",
    "下列是几个```ndarray```中的重要属性：  \n",
    "\n",
    "**ndarray.ndim**  \n",
    "　　数组的维数。  \n",
    "**ndarray.shape**  \n",
    "　　数组的形状。  \n",
    "**ndarray.size**  \n",
    "　　数组的元素个数。  \n",
    "**ndarray.dtype**  \n",
    "　　数组的元素类型。  \n",
    "  \n",
    "例子： 查看 data=np.arange(15).reshape(3,5) 对象属性"
   ]
  },
  {
   "cell_type": "code",
   "execution_count": null,
   "metadata": {},
   "outputs": [],
   "source": []
  },
  {
   "cell_type": "markdown",
   "metadata": {},
   "source": [
    "#### 1.1 创建数组\n",
    "**1.使用array( )函数**\n",
    "\n",
    "创建数组有多种方式。你可以使用```np.array```直接用Python的元组和列表来创建，如果传递的是多层嵌套的序列，将创建多维数组。\n",
    "```py\n",
    "a=np.array([1,2,3])\n",
    "b=np.array([1.1,2.2,3.3])\n",
    "c=np.array([(1,2,3),(4.5,5,6)]) #创建二维数组\n",
    "d=np.array([(1,2),(3,4)],dtype=complex) #数组的类型可以在创建时显式声明\n",
    "```"
   ]
  },
  {
   "cell_type": "code",
   "execution_count": null,
   "metadata": {},
   "outputs": [],
   "source": []
  },
  {
   "cell_type": "markdown",
   "metadata": {},
   "source": [
    "**2.使用arange( )函数**\n",
    "\n",
    "为了创建列表，NumPy提供了和 ```range``` 类似的函数，通过指定开始值、终值和步长来创建一维数组，注意数组不包括终值。\n",
    "```py\n",
    "np.arange(start,end,step)\n",
    "a=np.arange(10,30,5)\n",
    "b=np.arange(0,2,0.3)#同样可以接收浮点数\n",
    "```\n",
    "arange函数可以看做是range函数的数组版，能生成一个一维数组，然后可以用reshape函数将一维数组改变成想要的形状，原数组的shape保持不变。\n",
    "```py\n",
    "b = a.reshape(5, -1)\n",
    "```"
   ]
  },
  {
   "cell_type": "code",
   "execution_count": null,
   "metadata": {},
   "outputs": [],
   "source": []
  },
  {
   "cell_type": "markdown",
   "metadata": {},
   "source": [
    "**3.使用zeros()、ones()、empty()函数**\n",
    "\n",
    "numpy.zeros 创建指定大小的数组，数组元素以 0 来填充：\n",
    "```\n",
    "numpy.zeros(shape, dtype = float)\n",
    "x = np.zeros(5) # 默认为浮点数\n",
    "y = np.zeros((5,), dtype = np.int) # 设置类型为整数\n",
    "```\n",
    "numpy.ones 创建指定形状的数组，数组元素以 1 来填充\n",
    "```\n",
    "numpy.ones(shape, dtype = float)\n",
    "x = np.ones(5)\n",
    "```\n",
    "\n",
    "numpy.empty 方法用来创建一个指定形状（shape）、数据类型（dtype）且未初始化的数组\n",
    "```py\n",
    "numpy.empty(shape, dtype = float)\n",
    "x = np.empty([3,2], dtype = int)\n",
    "\n",
    "```\n",
    "需要注意的是上述方法创建的数组元素的类型是 ```float64```"
   ]
  },
  {
   "cell_type": "code",
   "execution_count": null,
   "metadata": {},
   "outputs": [],
   "source": []
  },
  {
   "cell_type": "markdown",
   "metadata": {},
   "source": [
    "#### 打印数组\n",
    "当你打印一个数组时，NumPy显示数组的方式和嵌套的列表类似，但是会遵循以下布局：\n",
    " - 最后一维从左到右显示\n",
    " - 第二维到最后一维从上到下显示\n",
    " - 剩下的同样从上到下显示，以空行分隔\n",
    " \n",
    "一维数组显示成一行，二维数组显示成矩阵，三维数组显示成矩阵的列表。\n",
    "```\n",
    "a=np.arange(6)\n",
    "b=np.arange(12).reshape(4,3)\n",
    "c=np.arange(24).reshape(2,3,4)\n",
    "```\n",
    "\n",
    "当一个数组元素太多，不方便显示时，NumPy会自动数组的中间部分，只显示边角的数据。\n",
    "\n",
    "```\n",
    "np.arange(10000)\n",
    "```"
   ]
  },
  {
   "cell_type": "code",
   "execution_count": null,
   "metadata": {},
   "outputs": [],
   "source": []
  },
  {
   "cell_type": "markdown",
   "metadata": {},
   "source": [
    "#### 1.2 索引与切片"
   ]
  },
  {
   "cell_type": "markdown",
   "metadata": {},
   "source": [
    "**1.使用标准方法**\n",
    "\n",
    "数组元素的存取方法和Python的标准方法相同\n",
    "```py\n",
    "a = np.arange(10)\n",
    "a[5] # 用整数作为下标可以获取数组中的某个元素\n",
    "a[3:5] # 用范围作为下标获取数组的一个切片，包括a[3]不包括a[5]\n",
    "a[:5] # 省略开始下标，表示从a[0]开始\n",
    "a[:-1] # 下标可以使用负数，表示从数组后往前数\n",
    "a[2:4] = 100,101 # 下标还可以用来修改元素的值\n",
    "a[1:-1:2] # 范围中的第三个参数表示步长，2表示隔一个元素取一个元素\n",
    "a[::-1] # 省略范围的开始下标和结束下标，步长为-1，整个数组头尾颠倒\n",
    "a[5:1:-2] # 步长为负数时，开始下标必须大于结束下标\n",
    "```"
   ]
  },
  {
   "cell_type": "code",
   "execution_count": null,
   "metadata": {},
   "outputs": [],
   "source": []
  },
  {
   "cell_type": "markdown",
   "metadata": {},
   "source": [
    "和Python的列表序列不同，通过下标范围获取的新的数组是原始数组的一个视图。它与原始数组共享同一块数据空间\n"
   ]
  },
  {
   "cell_type": "code",
   "execution_count": null,
   "metadata": {},
   "outputs": [],
   "source": []
  },
  {
   "cell_type": "markdown",
   "metadata": {},
   "source": [
    "**2.使用整数序列**\n",
    "\n",
    "当使用整数序列对数组元素进行存取时，将使用整数序列中的每个元素作为下标，整数序列可以是列表或者数组。使用整数序列作为下标获得的数组不和原始数组共享数据空间。\n",
    "```py\n",
    "x = np.arange(10,1,-1) # array([10, 9, 8, 7, 6, 5, 4, 3, 2])\n",
    "x[[3, 3, 1, 8]] # 获取x中的下标为3, 3, 1, 8的4个元素，组成一个新的数组\n",
    "b = x[np.array([3,3,-3,8])] #下标可以是负数\n",
    "b[2] = 100\n",
    "x # 由于b和x不共享数据空间，因此x中的值并没有改变\n",
    "x[[3,5,1]] = -1, -2, -3 # 整数序列下标也可以用来修改元素的值\n",
    "```"
   ]
  },
  {
   "cell_type": "code",
   "execution_count": null,
   "metadata": {},
   "outputs": [],
   "source": []
  },
  {
   "cell_type": "markdown",
   "metadata": {},
   "source": [
    "**3.使用布尔数组**\n",
    "\n",
    "当使用布尔数组b作为下标存取数组x中的元素时，将收集数组x中所有在数组b中对应下标为True的元素。使用布尔数组作为下标获得的数组不和原始数组共享数据空间，注意只对应于布尔数组，不能使用布尔列表。\n",
    "\n",
    "```py\n",
    "x = np.arange(5,0,-1)\n",
    "x[np.array([True, False, True, False, False])]\n",
    "# 布尔数组中下标为0，2的元素为True，因此获取x中下标为0,2的元素\n",
    "x[[True, False, True, False, False]]\n",
    "# 如果是布尔列表，则把True当作1, False当作0，按照整数序列方式获取x中的元素\n",
    "x[np.array([True, False, True, True])]\n",
    "# 布尔数组的长度不够时，不够的部分都当作False\n",
    "x[np.array([True, False, True, True])] = -1, -2, -3\n",
    "# 布尔数组下标也可以用来修改元素\n",
    "```"
   ]
  },
  {
   "cell_type": "code",
   "execution_count": null,
   "metadata": {},
   "outputs": [],
   "source": []
  },
  {
   "cell_type": "markdown",
   "metadata": {},
   "source": [
    "布尔数组一般不是手工产生，而是使用布尔运算的ufunc函数产生\n",
    "```py\n",
    "x = np.random.rand(10) # 产生一个长度为10，元素值为0-1的随机数的数组\n",
    "x>0.5\n",
    "# 数组x中的每个元素和0.5进行大小比较，得到一个布尔数组，True表示x中对应的值大于0.5\n",
    "x[x>0.5]\n",
    "# 使用x>0.5返回的布尔数组收集x中的元素，因此得到的结果是x中所有大于0.5的元素的数组\n",
    "```"
   ]
  },
  {
   "cell_type": "code",
   "execution_count": null,
   "metadata": {},
   "outputs": [],
   "source": []
  },
  {
   "cell_type": "markdown",
   "metadata": {},
   "source": [
    "#### 多维数组\n",
    "\n",
    "多维数组的存取和一维数组类似，因为多维数组有多个轴，因此它的下标需要用多个值来表示，NumPy采用组元(tuple)作为数组的下标。\n",
    "```py\n",
    "# 6x6的数组\n",
    "np.arange(0, 60, 10).reshape(-1, 1) + np.arange(0, 6)\n",
    "```\n",
    "\n",
    "* 使用数组切片语法访问多维数组中的元素\n",
    "![](img/1.png)\n",
    "\n",
    "\n",
    "* 使用整数序列和布尔数组访问多维数组中的元素\n",
    "![](img/2.png)\n",
    "\n",
    "对多维数组的迭代是在第一维进行迭代的。\n",
    "```\n",
    "for row in b:\n",
    "    print(row)\n",
    "```\n",
    "\n",
    "如果需要遍历多维数组的所有元素，可以使用flat这个属性。\n",
    "```\n",
    "for element in b.flat:\n",
    "    print(element)\n",
    "```"
   ]
  },
  {
   "cell_type": "code",
   "execution_count": null,
   "metadata": {},
   "outputs": [],
   "source": []
  },
  {
   "cell_type": "markdown",
   "metadata": {},
   "source": [
    "#### 1.3 数组相关操作"
   ]
  },
  {
   "cell_type": "markdown",
   "metadata": {
    "collapsed": true
   },
   "source": [
    "**切分数组**\n",
    "\n",
    "将一个数组划分为多个更小的数组\n",
    "\n",
    "numpy.split 函数沿特定的轴将数组分割为子数组\n",
    "```\n",
    "a = np.arange(9)\n",
    "b = np.split(a,3) # 将数组分为三个大小相等的子数组\n",
    "b = np.split(a,[4,7]) # 将数组在一维数组中表明的位置分割\n",
    "```\n",
    "\n",
    "numpy.hsplit 函数用于水平分割数组，通过指定要返回的相同形状的数组数量来拆分原数组\n",
    "```\n",
    "harr = np.floor(10 * np.random.random((2, 6)))\n",
    "np.hsplit(harr, 3)\n",
    "```\n",
    "\n",
    "numpy.vsplit 沿着垂直轴分割，其分割方式与hsplit用法相同\n",
    "```\n",
    "a = np.arange(16).reshape(4,4)\n",
    "b = np.vsplit(a,2)\n",
    "```"
   ]
  },
  {
   "cell_type": "code",
   "execution_count": null,
   "metadata": {},
   "outputs": [],
   "source": []
  },
  {
   "cell_type": "markdown",
   "metadata": {},
   "source": [
    "**拼接数组**\n",
    "\n",
    "堆砌不同的数组，多个数组可以按照不同的轴合在一起\n",
    "\n",
    "numpy.concatenate 函数用于沿指定轴连接相同形状的两个或多个数组\n",
    "```\n",
    "a = np.array([[1,2],[3,4]])\n",
    "b = np.array([[5,6],[7,8]])\n",
    "np.concatenate((a,b)) # 沿轴 0 连接两个数组\n",
    "np.concatenate((a,b),axis = 1) # 沿轴 1 连接两个数组\n",
    "```\n"
   ]
  },
  {
   "cell_type": "code",
   "execution_count": null,
   "metadata": {},
   "outputs": [],
   "source": []
  },
  {
   "cell_type": "markdown",
   "metadata": {},
   "source": [
    "**复制和视图**\n",
    "\n",
    "当操作数组时，数组的数据有时会复制到新数组中，有时又不会。这通常令初学者感到困难。总的来说有下面三种情况：\n",
    "\n",
    "#### 不复制\n",
    "简单的赋值不会复制数组的数据。\n",
    "```\n",
    "a=np.arange(12)\n",
    "b=a\n",
    "print(b is a)\n",
    "b.shape=3,4\n",
    "print(a.shape)\n",
    "```\n",
    "\n",
    "#### 视图和浅复制\n",
    "不同的数组可以使用同一份数据，```view```函数在同一份数据上创建了新的数组对象。\n",
    "```\n",
    "c=a.view()\n",
    "print(c is a)\n",
    "print(c.base is a) #c是a的数据的视图\n",
    "print(c.flags.owndata)\n",
    "c.shape=6,2\n",
    "print(a.shape) #a的形状没有改变\n",
    "c[4,1]=1234 #a的数据改变了\n",
    "print(a)\n",
    "```\n",
    "对数组切片会返回数组的视图\n",
    "```\n",
    "s=a[:,1:3]\n",
    "s[:]=10\n",
    "print(a)\n",
    "```\n",
    "\n",
    "#### 深复制\n",
    "\n",
    "copy函数实现了对数据和数组的完全复制。\n",
    "```\n",
    "d=a.copy()\n",
    "print(d is a)\n",
    "print(d.base is a)\n",
    "d[0,0]=9999\n",
    "print(a)\n",
    "```"
   ]
  },
  {
   "cell_type": "markdown",
   "metadata": {},
   "source": [
    "### 2.ufunc运算\n",
    "\n",
    "ufunc是universal function的缩写，它是一种能对数组的每个元素进行操作的函数。许多ufunc函数都是在C语言级别实现的，因此它们的计算速度非常快。\n",
    "比较了一下numpy.math和Python标准库的math.sin的计算速度。\n",
    "```py\n",
    "import time\n",
    "import math\n",
    "import numpy as np\n",
    "x = [i * 0.001 for i in range(1000000)]\n",
    "start = time.clock()\n",
    "for i, t in enumerate(x):\n",
    "    x[i] = math.sin(t)\n",
    "print(\"math.sin:\", time.clock() - start) \n",
    "\n",
    "x = [i * 0.001 for i in range(1000000)]\n",
    "x = np.array(x)\n",
    "start = time.clock()\n",
    "np.sin(x,x)\n",
    "print (\"numpy.sin:\", time.clock() - start)\n",
    "```\n",
    "计算100万次正弦值，numpy.sin比math.sin快10倍多\n",
    "\n",
    "数组的算数计算是在元素层级运算的。计算结果会存在一个新创建的数组中。\n",
    "\n",
    "类似于+=和*=的运算是直接在现有数组上计算的，没有创建新的数组。Numpy中的计算同样也是向上转型的，可以简单理解成浮点数和整数运算的结果是浮点数。\n",
    "```\n",
    "a = np.ones((2,3), dtype=int)\n",
    "b = np.random.random((2,3))\n",
    "```"
   ]
  },
  {
   "cell_type": "code",
   "execution_count": null,
   "metadata": {},
   "outputs": [],
   "source": [
    "import time\n",
    "import math\n",
    "\n",
    "x = [i * 0.001 for i in range(1000000)]\n",
    "start = time.process_time()\n",
    "for i, t in enumerate(x):\n",
    "    x[i] = math.sin(t)   #python自带的函数\n",
    "print(\"math.sin:\", time.process_time() - start)    #统计计算时间"
   ]
  },
  {
   "cell_type": "code",
   "execution_count": null,
   "metadata": {},
   "outputs": [],
   "source": [
    "#采用numpy函数会计算的更快\n",
    "x = [i * 0.001 for i in range(1000000)]\n",
    "x = np.array(x)   # x已经转变为 ndarray对象\n",
    "start = time.process_time()\n",
    "np.sin(x,x)  #numpy的函数\n",
    "print (\"numpy.sin:\", time.process_time() - start)"
   ]
  },
  {
   "cell_type": "markdown",
   "metadata": {},
   "source": [
    "#### 2.1 常用函数"
   ]
  },
  {
   "cell_type": "markdown",
   "metadata": {},
   "source": [
    "**一元ufunc**\n",
    "* ceil(x): 向上最接近的整数，参数是 number 或 array\n",
    "* floor(x): 向下最接近的整数，参数是 number 或 array\n",
    "* rint(x): 四舍五入，参数是 number 或 array\n",
    "* negative(x): 元素取反，参数是 number 或 array\n",
    "* abs(x)：元素的绝对值，参数是 number 或 array\n",
    "* square(x)：元素的平方，参数是 number 或 array\n",
    "* aqrt(x)：元素的平方根，参数是 number 或 array\n",
    "* sign(x)：计算各元素的正负号, 1(正数)、0（零）、-1(负数)，参数是 number 或 array\n",
    "* modf(x)：将数组的小数和整数部分以两个独立数组的形式返回，参数是 number 或 array\n",
    "* isnan(x): 判断元素是否为 NaN(Not a Number)，返回bool，参数是 number 或 array\n",
    "\n",
    "```\n",
    "a = np.array([-1.7,  1.5,  -0.2,  0.6,  10])\n",
    "np.floor(a)\n",
    "```"
   ]
  },
  {
   "cell_type": "code",
   "execution_count": null,
   "metadata": {},
   "outputs": [],
   "source": []
  },
  {
   "cell_type": "markdown",
   "metadata": {},
   "source": [
    "**二元ufunc**\n",
    "* add(x, y): 元素相加，x + y，参数是 number 或 array\n",
    "* subtract(x, y): 元素相减，x – y，参数是 number 或 array\n",
    "* multiply(x, y): 元素相乘，x * y，参数是 number 或 array\n",
    "* divide(x, y): 元素相除，x / y，参数是 number 或 array\n",
    "* floor_divide(x, y): 元素相除取整数商(丢弃余数)，x // y，参数是 number 或 array\n",
    "* mod(x, y): 元素求余数，x % y，参数是 number 或 array\n",
    "* power(x, y): 元素求次方，x ** y，参数是 number 或 array\n",
    "* equal(x1, x2 [, y]) : y = x1 == x2 \n",
    "* not_equal(x1, x2 [, y]) : y = x1 != x2 \n",
    "* less(x1, x2, [, y]) : y = x1 < x2 \n",
    "* less_equal(x1, x2, [, y]) : y = x1 <= x2 \n",
    "* greater(x1, x2, [, y]) : y = x1 > x2 \n",
    "* greater_equal(x1, x2, [, y]) : y = x1 >= x2 \n",
    "\n",
    "```\n",
    "a = np.array([10,20,30]) \n",
    "b = np.array([3,5,7]) \n",
    "np.mod(a,b)\n",
    "```\n",
    "需要注意的是数组必须具有相同的形状或符合数组广播规则\n",
    "\n",
    "NumPy提供了熟知的数学方法，如：sin、cos、exp等。在NumPy中，这些方法被称作广播函数。这些函数会对数组中的每个元素进行计算，返回计算后的数组。\n",
    "```\n",
    "B=np.arange(3)\n",
    "print(B)\n",
    "print(np.exp(B))\n",
    "print(np.sqrt(B))\n",
    "C=np.array([2,-1,4])\n",
    "print(np.add(B,C))\n",
    "print(B+C)\n",
    "```"
   ]
  },
  {
   "cell_type": "code",
   "execution_count": null,
   "metadata": {},
   "outputs": [],
   "source": []
  },
  {
   "cell_type": "markdown",
   "metadata": {},
   "source": [
    "### 3.函数库"
   ]
  },
  {
   "cell_type": "markdown",
   "metadata": {
    "collapsed": true
   },
   "source": [
    "**比较运算**\n",
    "* allclose(a, b[, rtol, atol, equal_nan]) 如果两个数组在容差范围内在元素方面相等，则返回True。\n",
    "* isclose(a, b[, rtol, atol, equal_nan]) 返回一个布尔数组，其中两个数组在容差范围内是元素相等的。\n",
    "* array_equal(a1, a2) 如果两个数组具有相同的形状和元素，则为真，否则为False。\n",
    "* array_equiv(a1, a2) 如果输入数组的形状一致且所有元素相等，则返回True。\n",
    "* greater(x1, x2, /[, out, where, casting, …]) 逐个元素方式返回（x1> x2）的真值。\n",
    "* greater_equal(x1, x2, /[, out, where, …]) 逐个元素方式返回（x1> = x2）的真值。\n",
    "* less(x1, x2, /[, out, where, casting, …]) 逐个元素方式返回\n",
    "* less_equal(x1, x2, /[, out, where, casting, …]) 逐个元素方式返回\n",
    "* equal(x1, x2, /[, out, where, casting, …]) 逐个元素返回（x1 == x2）。\n",
    "* not_equal(x1, x2, /[, out, where, casting, …]) 逐个元素返回 Return (x1 != x2)。\n"
   ]
  },
  {
   "cell_type": "markdown",
   "metadata": {},
   "source": [
    "**三角函数**\n",
    "* sin(x, /[, out, where, casting, order, …]) 逐个元素运算三角正弦函数。\n",
    "* cos(x, /[, out, where, casting, order, …]) 逐个元素运算三角余弦函数。\n",
    "* tan(x, /[, out, where, casting, order, …]) 逐个元素运算三角正切函数。\n",
    "* arcsin(x, /[, out, where, casting, order, …]) 逐个元素运算三角反正弦函数。\n",
    "* arccos(x, /[, out, where, casting, order, …]) 逐个元素运算三角反余弦函数。\n",
    "* arctan(x, /[, out, where, casting, order, …]) 逐个元素运算三角反正切函数。\n",
    "* hypot(x1, x2, /[, out, where, casting, …]) 给定直角三角形的“腿”，返回它的斜边。\n",
    "* arctan2(x1, x2, /[, out, where, casting, …]) 元素弧切线x1/x2正确选择象限。\n",
    "* degrees(x, /[, out, where, casting, order, …]) 将角度从弧度转换为度数。\n",
    "* radians(x, /[, out, where, casting, order, …]) 将角度从度数转换为弧度。\n",
    "* unwrap(p[, discont, axis]) 通过将值之间的差值更改为2*pi补码来展开。\n",
    "* deg2rad(x, /[, out, where, casting, order, …]) 将角度从度数转换为弧度。\n",
    "* rad2deg(x, /[, out, where, casting, order, …]) 将角度从弧度转换为度数。"
   ]
  },
  {
   "cell_type": "markdown",
   "metadata": {
    "collapsed": true
   },
   "source": [
    "**求总和, 求乘积, 求差异**\n",
    "* prod(a[, axis, dtype, out, keepdims]) 返回给定轴上的数组元素的乘积。\n",
    "* sum(a[, axis, dtype, out, keepdims]) 给定轴上的数组元素的总和。\n",
    "* nanprod(a[, axis, dtype, out, keepdims]) 返回给定轴上的数组元素的乘积。\n",
    "* nansum(a[, axis, dtype, out, keepdims]) 返回给定轴上的数组元素的总和。\n",
    "* cumprod(a[, axis, dtype, out]) 返回给定轴上元素的累积乘积。\n",
    "* cumsum(a[, axis, dtype, out]) 返回给定轴上元素的累积和。\n",
    "* nancumprod(a[, axis, dtype, out]) 返回给定轴上的数组元素的累积乘积\n",
    "* nancumsum(a[, axis, dtype, out]) 返回给定轴上的数组元素的累积和。\n",
    "* diff(a[, n, axis]) 计算沿给定轴的第n个离散差。\n",
    "* ediff1d(ary[, to_end, to_begin]) 数组的连续元素之间的差异。\n",
    "* gradient(f, varargs, *kwargs) 返回N维数组的渐变。\n",
    "* cross(a, b[, axisa, axisb, axisc, axis]) 返回两个（数组）向量的叉积。\n",
    "* trapz(y[, x, dx, axis]) 沿给定的轴积分使用复合梯形规则运算。"
   ]
  },
  {
   "cell_type": "markdown",
   "metadata": {
    "collapsed": true
   },
   "source": [
    "**平均数和差异**\n",
    "* median(a[, axis, out, overwrite_input, keepdims]) 沿指定轴计算中值。\n",
    "* average(a[, axis, weights, returned]) 计算沿指定轴的加权平均。\n",
    "* mean(a[, axis, dtype, out, keepdims]) 沿指定的轴计算算术平均值。\n",
    "* std(a[, axis, dtype, out, ddof, keepdims]) 计算沿指定轴的标准偏差。\n",
    "* var(a[, axis, dtype, out, ddof, keepdims]) 计算沿指定轴的方差。\n",
    "* nanmedian(a[, axis, out, overwrite_input, …]) 在忽略NAS的情况下，沿指定的轴计算中值。\n",
    "* nanmean(a[, axis, dtype, out, keepdims]) 计算沿指定轴的算术平均值，忽略NAS。\n",
    "* nanstd(a[, axis, dtype, out, ddof, keepdims]) 计算指定轴上的标准偏差，而忽略NAS。\n",
    "* nanvar(a[, axis, dtype, out, ddof, keepdims]) 计算指定轴上的方差，同时忽略NAS。\n",
    "\n",
    "```\n",
    "a=np.random.random((2,3))\n",
    "print(a)\n",
    "print(a.sum())\n",
    "print(a.mean())\n",
    "print(a.max())\n",
    "print(a.min())\n",
    "```\n",
    "\n",
    "默认的，这些操作是对整个数组进行计算，没有考虑到数组的形状。你可以设置axis参数来指定运算方向。axis表示第n维（从0开始）。\n",
    "```\n",
    "b=np.arange(12).reshape(3,4)\n",
    "print(b)\n",
    "print(b.sum(axis=0)) #对第0维的元素求和\n",
    "print(b.sum(axis=1)) #对第1维的元素求和\n",
    "print(b.min(axis=1))\n",
    "print(b.cumsum(axis=1)) #对第1维的元素累加求和\n",
    "```"
   ]
  },
  {
   "cell_type": "code",
   "execution_count": null,
   "metadata": {},
   "outputs": [],
   "source": []
  },
  {
   "cell_type": "markdown",
   "metadata": {},
   "source": [
    "### 4.文件存取"
   ]
  },
  {
   "cell_type": "markdown",
   "metadata": {},
   "source": [
    "使用numpy.savetxt和numpy.loadtxt可以读写1维和2维的数组\n",
    "```\n",
    "np.loadtxt(FILENAME, dtype=int, delimiter=' ')\n",
    "np.savetxt(FILENAME, a, fmt=\"%d\", delimiter=\",\")\n",
    "\n",
    "a = np.arange(0,12,0.5).reshape(4,-1)\n",
    "np.savetxt(\"a.txt\", a) # 缺省按照'%.18e'格式保存数据，以空格分隔\n",
    "np.loadtxt(\"a.txt\")\n",
    "\n",
    "np.savetxt(\"a.txt\", a, fmt=\"%d\", delimiter=\",\") #改为保存为整数，以逗号分隔\n",
    "np.loadtxt(\"a.txt\",delimiter=\",\") # 读入的时候也需要指定逗号分隔\n",
    "```"
   ]
  },
  {
   "cell_type": "code",
   "execution_count": null,
   "metadata": {},
   "outputs": [],
   "source": [
    "a = np.arange(0,12).reshape(3,4)\n",
    "a"
   ]
  },
  {
   "cell_type": "code",
   "execution_count": null,
   "metadata": {},
   "outputs": [],
   "source": [
    "np.savetxt(\"a.txt\", a, fmt='%10.5f')"
   ]
  },
  {
   "cell_type": "code",
   "execution_count": null,
   "metadata": {},
   "outputs": [],
   "source": []
  },
  {
   "cell_type": "code",
   "execution_count": null,
   "metadata": {},
   "outputs": [],
   "source": [
    "b = np.loadtxt(\"a.txt\",delimiter=\",\", dtype=str)"
   ]
  },
  {
   "cell_type": "code",
   "execution_count": null,
   "metadata": {},
   "outputs": [],
   "source": [
    "b"
   ]
  },
  {
   "cell_type": "markdown",
   "metadata": {
    "slideshow": {
     "slide_type": "slide"
    }
   },
   "source": [
    "# Any Questions?"
   ]
  },
  {
   "cell_type": "markdown",
   "metadata": {},
   "source": [
    "小练习，不执行下面的代码，阅读代码分析，会输出什么结果？\n",
    "然后创新新的cell，复制代码执行看是否正确\n",
    "\n",
    "```python\n",
    "list1=[]\n",
    "for i in range(1,10):\n",
    "    for j in range(1,10):\n",
    "        list1.append(i*j)\n",
    "        \n",
    "a1 = np.array(list1).reshape(9,9)\n",
    "print(a1)\n",
    "```"
   ]
  },
  {
   "cell_type": "code",
   "execution_count": null,
   "metadata": {},
   "outputs": [],
   "source": []
  }
 ],
 "metadata": {
  "celltoolbar": "Slideshow",
  "kernelspec": {
   "display_name": "Python 3",
   "language": "python",
   "name": "python3"
  },
  "language_info": {
   "codemirror_mode": {
    "name": "ipython",
    "version": 3
   },
   "file_extension": ".py",
   "mimetype": "text/x-python",
   "name": "python",
   "nbconvert_exporter": "python",
   "pygments_lexer": "ipython3",
   "version": "3.7.4"
  }
 },
 "nbformat": 4,
 "nbformat_minor": 1
}
